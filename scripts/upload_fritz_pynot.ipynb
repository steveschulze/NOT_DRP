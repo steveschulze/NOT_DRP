{
 "cells": [
  {
   "cell_type": "code",
   "execution_count": null,
   "id": "5188f0d7",
   "metadata": {
    "ExecuteTime": {
     "end_time": "2021-05-15T13:43:51.763865Z",
     "start_time": "2021-05-15T13:43:51.761004Z"
    }
   },
   "outputs": [],
   "source": [
    "from   astropy import table, time\n",
    "from   astropy.io import fits\n",
    "import json\n",
    "import os\n",
    "from   plotsettings import *\n",
    "import requests\n",
    "from   scipy import interpolate\n",
    "from   standard_libraries import *"
   ]
  },
  {
   "cell_type": "code",
   "execution_count": null,
   "id": "cea3f19d",
   "metadata": {},
   "outputs": [],
   "source": [
    "def api(method, endpoint, data=None):\n",
    "    \"\"\"API request\"\"\"\n",
    "\n",
    "    headers = {'Authorization': f'token {myToken}'}\n",
    "    print(headers)\n",
    "    response = requests.request(method, endpoint, json=data, headers=headers)\n",
    "    print(f'HTTP code: {response.status_code}, {response.reason}')\n",
    "    return response\n",
    "\n",
    "def get_groups(source):\n",
    "    \"\"\"Get the groups a source belongs to\"\"\"\n",
    "\n",
    "    response = api('GET',\n",
    "                   f'https://fritz.science/api/sources/{source}'\n",
    "                   )\n",
    "\n",
    "    if response.status_code == 200:\n",
    "        groups = response.json()['data']['groups']\n",
    "    \n",
    "    else:\n",
    "        print(f'HTTP code: {response.status_code}, {response.reason}')\n",
    "\n",
    "    return groups"
   ]
  },
  {
   "cell_type": "code",
   "execution_count": null,
   "id": "3345f5d4",
   "metadata": {},
   "outputs": [],
   "source": [
    "root = os.path.expanduser('~') + '/NOT/'\n",
    "#root = '/home/steve/Downloads/'\n",
    "#root = '/Volumes/Work/pynot/'\n",
    "path = root + 'raw/'"
   ]
  },
  {
   "cell_type": "code",
   "execution_count": null,
   "id": "8a58ced3",
   "metadata": {},
   "outputs": [],
   "source": [
    "date = '2023-07-23'"
   ]
  },
  {
   "cell_type": "code",
   "execution_count": null,
   "id": "f62573f3",
   "metadata": {},
   "outputs": [],
   "source": [
    "os.chdir(path+date+'/spectra/')"
   ]
  },
  {
   "cell_type": "code",
   "execution_count": null,
   "id": "960f28a0",
   "metadata": {},
   "outputs": [],
   "source": [
    "!ls ./ | grep -v fits"
   ]
  },
  {
   "cell_type": "code",
   "execution_count": null,
   "id": "8079902f",
   "metadata": {},
   "outputs": [],
   "source": [
    "ls ZTF23aaltxkt/al-gr4_slit1.0/ob1/"
   ]
  },
  {
   "cell_type": "code",
   "execution_count": null,
   "id": "87002916",
   "metadata": {
    "ExecuteTime": {
     "end_time": "2021-05-15T13:43:51.994997Z",
     "start_time": "2021-05-15T13:43:51.878687Z"
    }
   },
   "outputs": [],
   "source": [
    "try:\n",
    "    del file\n",
    "except:\n",
    "    pass\n",
    "\n",
    "try:\n",
    "    del file1\n",
    "except:\n",
    "    pass\n",
    "\n",
    "try:\n",
    "    del file2\n",
    "except:\n",
    "    pass\n",
    "\n",
    "try:\n",
    "    del file2\n",
    "except:\n",
    "    pass\n",
    "\n",
    "try:\n",
    "    del file3\n",
    "except:\n",
    "    pass\n",
    "\n",
    "file1            = 'ZTF23aaltxkt/al-gr4_slit1.0/ob1/FLUX1D_ZTF23aaltxkt.fits'\n",
    "file2            = 'ZTF23aaltxkt/al-gr4_slit1.0/ob2/FLUX1D_ZTF23aaltxkt.fits'\n",
    "#file3            = 'ZTF22abnvurz/al-gr4_slit1.0/ob3/FLUX1D_ZTF22abnvurz.fits'\n",
    "#file3            = 'ZTF22aafrjnw/al-gr4_slit1.3/ob3/FLUX1D_ZTF22aafrjnw.fits'\n",
    "\n",
    "# If you extracted spectra of multiple traces, use the option 'hdu' to select the relevant column\n",
    "\n",
    "epochs           = {}\n",
    "epochs['Epoch 1'] = table.Table.read(file1, hdu=2)\n",
    "#epochs['Epoch 1'] = epochs['Epoch 1'][ (epochs['Epoch 1']['WAVE'] > 3500) & (epochs['Epoch 1']['WAVE'] < 9000)]\n",
    "#epochs['Epoch 2'] = table.Table.read(file2, hdu=1)\n",
    "epochs['Epoch 2'] = table.Table.read(file2, hdu=2)#, hdu='OBJ1')"
   ]
  },
  {
   "cell_type": "code",
   "execution_count": null,
   "id": "924cded5",
   "metadata": {},
   "outputs": [],
   "source": [
    "epochs['Epoch 1']"
   ]
  },
  {
   "cell_type": "code",
   "execution_count": null,
   "id": "39736528",
   "metadata": {},
   "outputs": [],
   "source": [
    "hdu=fits.open(file1)\n",
    "hdu.info()\n",
    "#hdu.header"
   ]
  },
  {
   "cell_type": "code",
   "execution_count": null,
   "id": "a70810cb",
   "metadata": {},
   "outputs": [],
   "source": [
    "# Compute the fudge factor to co-add multiple epochs"
   ]
  },
  {
   "cell_type": "code",
   "execution_count": null,
   "id": "d7f3c453",
   "metadata": {},
   "outputs": [],
   "source": [
    "ref_wave    = epochs['Epoch 1']['WAVE']\n",
    "ref_vals    = epochs['Epoch 1']['FLUX']\n",
    "ref_errs    = epochs['Epoch 1']['ERR']\n",
    "\n",
    "for ii, epoch in enumerate(epochs):\n",
    "\n",
    "    if ii > 0:\n",
    "        \n",
    "        temp_wave        = epochs[epoch]['WAVE']\n",
    "        temp_vals        = epochs[epoch]['FLUX']\n",
    "        temp_errs        = epochs[epoch]['ERR']\n",
    "        \n",
    "        temp_vals_interp = interpolate.interp1d(temp_wave, temp_vals,    bounds_error=False, fill_value=np.nan)\n",
    "        temp_errs_interp = interpolate.interp1d(temp_wave, temp_errs,    bounds_error=False, fill_value=np.nan)\n",
    "\n",
    "        ratio            = ref_vals / temp_vals_interp(ref_wave)\n",
    "        ratio_err        = ratio * np.sqrt((temp_errs_interp(ref_wave)/temp_vals_interp(ref_wave))**2 + (ref_errs / ref_vals)**2)\n",
    "        ratio_weights    = 1/ratio_err*2\n",
    "        \n",
    "        \n",
    "        mask             = np.where( (np.logical_not(np.isnan(ratio*ratio_weights))) & (ref_wave > 4000) & (ref_wave < 9000))[0]\n",
    "        \n",
    "        fudge_weighted_mean = np.sum((ratio * ratio_weights)[mask]) / np.sum(ratio_weights[mask])\n",
    "        print(fudge_weighted_mean)\n",
    "\n",
    "        epochs[epoch]['FLUX'] *= fudge_weighted_mean\n",
    "        epochs[epoch]['ERR']  *= fudge_weighted_mean"
   ]
  },
  {
   "cell_type": "code",
   "execution_count": null,
   "id": "7971cca1",
   "metadata": {},
   "outputs": [],
   "source": [
    "# Get FITS header"
   ]
  },
  {
   "cell_type": "code",
   "execution_count": null,
   "id": "ef681b0f",
   "metadata": {},
   "outputs": [],
   "source": [
    "header = fits.getheader(file1, hdu=0)"
   ]
  },
  {
   "cell_type": "code",
   "execution_count": null,
   "id": "ac4f0030",
   "metadata": {},
   "outputs": [],
   "source": [
    "# Create a new header with a summary of the observations"
   ]
  },
  {
   "cell_type": "code",
   "execution_count": null,
   "id": "9058f304",
   "metadata": {
    "ExecuteTime": {
     "end_time": "2021-05-15T13:43:52.019117Z",
     "start_time": "2021-05-15T13:43:52.013944Z"
    }
   },
   "outputs": [],
   "source": [
    "comments               = {}\n",
    "comments['OBJECT']     = header['TCSTGT']\n",
    "comments['RA']         = header['RA']\n",
    "comments['DEC']        = header['DEC']\n",
    "comments['OBSERVER']   = 'Jesper Sollerman, Steve Schulze'\n",
    "comments['REDUCER']    = 'Steve Schulze'\n",
    "comments['PIPELINE']   = 'PyNOT v{}'.format(hdu[1].header['AUTHOR'].split(' ')[-1])\n",
    "comments['DATE-OBS']   = header['DATE-OBS']\n",
    "comments['PROPID']     = header['PROPID']\n",
    "comments['JD']         = np.round(time.Time(comments['DATE-OBS'], format='isot', scale='utc').jd, 5)\n",
    "comments['MJD']        = np.round(time.Time(comments['DATE-OBS'], format='isot', scale='utc').mjd, 5)\n",
    "comments['EXPTIME']    = header['EXPTIME'] * len(epochs.keys())\n",
    "comments['TELESCOPE']  = header['TELESCOP']\n",
    "comments['INSTRUMENT'] = header['INSTRUME'].split('_')[0]\n",
    "comments['SLIT']       = header['ALAPRTNM']\n",
    "comments['DISERPER']   = header['ALGRNM']\n",
    "comments['WLENSYSTEM'] = 'vacuum'"
   ]
  },
  {
   "cell_type": "code",
   "execution_count": null,
   "id": "126b5030",
   "metadata": {
    "ExecuteTime": {
     "end_time": "2021-05-15T13:43:52.166494Z",
     "start_time": "2021-05-15T13:43:52.162603Z"
    }
   },
   "outputs": [],
   "source": [
    "comments"
   ]
  },
  {
   "cell_type": "code",
   "execution_count": null,
   "id": "b2c863b1",
   "metadata": {
    "ExecuteTime": {
     "end_time": "2021-05-15T13:43:52.320337Z",
     "start_time": "2021-05-15T13:43:52.314234Z"
    }
   },
   "outputs": [],
   "source": [
    "if len(epochs.keys()) > 1:\n",
    "\n",
    "    weighted_flux = 0 * epochs['Epoch 1']['FLUX']\n",
    "    weighted_err  = 0 * epochs['Epoch 1']['FLUX']\n",
    "\n",
    "    for ii in epochs:\n",
    "        weighted_flux += epochs[ii]['FLUX'] / epochs[ii]['ERR']**2\n",
    "        weighted_err  += 1 / epochs[ii]['ERR']**2\n",
    "\n",
    "    weighted_flux /= weighted_err\n",
    "    weighted_err  = np.sqrt(1/weighted_err)\n",
    "\n",
    "else:\n",
    "    weighted_flux = epochs['Epoch 1']['FLUX']\n",
    "    weighted_err  = epochs['Epoch 1']['ERR']"
   ]
  },
  {
   "cell_type": "code",
   "execution_count": null,
   "id": "3603bfde",
   "metadata": {},
   "outputs": [],
   "source": [
    "# Adjust the suitable wavelength range if needed\n",
    "# The uploaded spectrum will have this wavelength range\n",
    "\n",
    "wmin = 3700\n",
    "wmax = 9200"
   ]
  },
  {
   "cell_type": "code",
   "execution_count": null,
   "id": "f54dd444",
   "metadata": {
    "ExecuteTime": {
     "end_time": "2021-05-15T13:43:53.174082Z",
     "start_time": "2021-05-15T13:43:52.959100Z"
    }
   },
   "outputs": [],
   "source": [
    "plt.figure(figsize=(9*np.sqrt(2), 9))\n",
    "\n",
    "ax=plt.subplot(111)\n",
    "\n",
    "mask = ''\n",
    "\n",
    "for ii, epoch in enumerate(epochs):\n",
    "    if epoch == 'Epoch 1':\n",
    "        mask = np.where( (epochs[epoch]['WAVE'] >= wmin) & (epochs[epoch]['WAVE'] <= wmax))[0]\n",
    "\n",
    "    temp_mask = np.where( (epochs[epoch]['WAVE'] >= wmin) & (epochs[epoch]['WAVE'] <= wmax))\n",
    "    ax.plot(epochs[epoch]['WAVE'][temp_mask], epochs[epoch]['FLUX'][temp_mask], label=epoch)#, lw=8-3*ii)\n",
    "\n",
    "ax.plot(epochs['Epoch 1']['WAVE'][mask], weighted_flux[mask], label='Weighted spec')\n",
    "ax.plot(epochs['Epoch 1']['WAVE'][mask], weighted_err [mask], label='Weighted err')\n",
    "\n",
    "ax.set_xlim(wmin, wmax)\n",
    "#ax.set_xlim(6200, 6400)\n",
    "ax.set_xlim(wmin, wmax)\n",
    "ax.set_ylim(-0.1*np.nanmedian(epochs['Epoch 1']['FLUX']), 1.2*np.nanpercentile(epochs['Epoch 1']['FLUX'], q=95.15))\n",
    "#ax.set_ylim(-0.1*np.nanmedian(epochs['Epoch 1']['FLUX']), 0.2e-16)\n",
    "\n",
    "ax.legend(fontsize=legend_size)\n",
    "\n",
    "plt.savefig(root + '{object}_{telescope}_{instrument}_{isot}.pdf'.format(object=comments['OBJECT'], telescope=comments['TELESCOPE'], instrument=comments['INSTRUMENT'], isot=comments['DATE-OBS']))"
   ]
  },
  {
   "cell_type": "code",
   "execution_count": null,
   "id": "33b7e9f3",
   "metadata": {},
   "outputs": [],
   "source": [
    "# Write out stacked spectrum with the observational information"
   ]
  },
  {
   "cell_type": "code",
   "execution_count": null,
   "id": "3ea19676",
   "metadata": {
    "ExecuteTime": {
     "end_time": "2021-05-15T13:43:53.456691Z",
     "start_time": "2021-05-15T13:43:53.452295Z"
    }
   },
   "outputs": [],
   "source": [
    "output                  = table.Table(np.array([epochs['Epoch 1']['WAVE'], weighted_flux, weighted_err]).T, names=('WAVE', 'FLUX', 'FLUXERR'))\n",
    "output.meta['comments'] = [key + ': ' +  str(comments[key]) for key in list(comments.keys())] + ['# Columns: WAVE FLUX FLUX_ERR']\n",
    "output                  = output[mask] # Limits to useful wavelength range to wmin and wmax\n",
    "output                  = output[np.logical_not(np.isnan(output['FLUX']))]\n",
    "output                  = output[np.logical_not(np.isnan(output['FLUXERR']))]\n",
    "output#[:5]"
   ]
  },
  {
   "cell_type": "code",
   "execution_count": null,
   "id": "018f23fc",
   "metadata": {},
   "outputs": [],
   "source": [
    "root + '{object}_{telescope}_{instrument}_{isot}.ascii'.format(object=comments['OBJECT'], telescope=comments['TELESCOPE'], instrument=comments['INSTRUMENT'], isot=comments['DATE-OBS'])"
   ]
  },
  {
   "cell_type": "code",
   "execution_count": null,
   "id": "732a4cd7",
   "metadata": {
    "ExecuteTime": {
     "end_time": "2021-05-15T13:43:54.461646Z",
     "start_time": "2021-05-15T13:43:54.376801Z"
    }
   },
   "outputs": [],
   "source": [
    "ascii.write(output, root + '{object}_{telescope}_{instrument}_{isot}.ascii'.format(object=comments['OBJECT'], telescope=comments['TELESCOPE'], instrument=comments['INSTRUMENT'], isot=comments['DATE-OBS']), format='no_header', overwrite=True)"
   ]
  },
  {
   "cell_type": "code",
   "execution_count": null,
   "id": "e32f7c93",
   "metadata": {},
   "outputs": [],
   "source": [
    "# Upload to Fritz"
   ]
  },
  {
   "cell_type": "code",
   "execution_count": null,
   "id": "cf381826",
   "metadata": {},
   "outputs": [],
   "source": [
    "# Add your token"
   ]
  },
  {
   "cell_type": "code",
   "execution_count": null,
   "id": "a2ddd67b",
   "metadata": {},
   "outputs": [],
   "source": [
    "myToken = 'YOUR_TOKEN'"
   ]
  },
  {
   "cell_type": "code",
   "execution_count": null,
   "id": "86fe21c5",
   "metadata": {},
   "outputs": [],
   "source": [
    "present_groups = [x['id'] for x in get_groups(comments['OBJECT'])]\n",
    "present_groups"
   ]
  },
  {
   "cell_type": "code",
   "execution_count": null,
   "id": "4cf3ab83",
   "metadata": {},
   "outputs": [],
   "source": [
    "flag_submit = True"
   ]
  },
  {
   "cell_type": "code",
   "execution_count": null,
   "id": "05376d49",
   "metadata": {},
   "outputs": [],
   "source": [
    "file = open(root + '{object}_{telescope}_{instrument}_{isot}.ascii'.format(object=comments['OBJECT'], telescope=comments['TELESCOPE'], instrument=comments['INSTRUMENT'], isot=comments['DATE-OBS']))\n",
    "root + '{object}_{telescope}_{instrument}_{isot}.ascii'.format(object=comments['OBJECT'], telescope=comments['TELESCOPE'], instrument=comments['INSTRUMENT'], isot=comments['DATE-OBS'])"
   ]
  },
  {
   "cell_type": "code",
   "execution_count": null,
   "id": "c746d145",
   "metadata": {},
   "outputs": [],
   "source": [
    "# User IDs\n",
    "# Jesper: 23, Steve 39, Sean 1297, Priscila 1305"
   ]
  },
  {
   "cell_type": "code",
   "execution_count": null,
   "id": "70da519e",
   "metadata": {},
   "outputs": [],
   "source": [
    "data = {\n",
    "\"observed_by\":   [23, 39],                                                                   # Jesper, Steve\n",
    "\"group_ids\":     list([int(x) for x in np.union1d(present_groups, [41, 87, 1])]),            # Share with exisiting groups AND RCF, Jesper's group and Sitewise\n",
    "\"filename\":      '{object}_{telescope}_{instrument}_{isot}.ascii'.format(object=comments['OBJECT'], telescope=comments['TELESCOPE'], instrument=comments['INSTRUMENT'], isot=comments['DATE-OBS']),\n",
    "\"reduced_by\":    [39],                                                                       # Steve\n",
    "\"instrument_id\": 26,                                                                         # ALFOSC\n",
    "\"observed_at\":   comments['DATE-OBS'],\n",
    "\"obj_id\":        comments['OBJECT'],                          \n",
    "\"ascii\":         file.read(),\n",
    "\"wave_column\": 0,\n",
    "\"flux_column\": 1,\n",
    "\"fluxerr_column\": 2,\n",
    "\"type\": \"source\"  # SN = source, host = host\n",
    "}"
   ]
  },
  {
   "cell_type": "code",
   "execution_count": null,
   "id": "c09669bc",
   "metadata": {},
   "outputs": [],
   "source": [
    "[key + ': ' + str(data[key]) for key in data.keys() if key != 'ascii']"
   ]
  },
  {
   "cell_type": "code",
   "execution_count": null,
   "id": "bb33a85a",
   "metadata": {},
   "outputs": [],
   "source": [
    "if flag_submit:\n",
    "    response = api('POST', 'https://fritz.science/api/spectrum/ascii', data=data)\n",
    "    response"
   ]
  },
  {
   "cell_type": "code",
   "execution_count": null,
   "id": "922d9489",
   "metadata": {},
   "outputs": [],
   "source": []
  }
 ],
 "metadata": {
  "kernelspec": {
   "display_name": "py39",
   "language": "python",
   "name": "python3"
  },
  "language_info": {
   "codemirror_mode": {
    "name": "ipython",
    "version": 3
   },
   "file_extension": ".py",
   "mimetype": "text/x-python",
   "name": "python",
   "nbconvert_exporter": "python",
   "pygments_lexer": "ipython3",
   "version": "3.11.4"
  },
  "latex_envs": {
   "LaTeX_envs_menu_present": true,
   "autoclose": false,
   "autocomplete": true,
   "bibliofile": "biblio.bib",
   "cite_by": "apalike",
   "current_citInitial": 1,
   "eqLabelWithNumbers": true,
   "eqNumInitial": 1,
   "hotkeys": {
    "equation": "Ctrl-E",
    "itemize": "Ctrl-I"
   },
   "labels_anchors": false,
   "latex_user_defs": false,
   "report_style_numbering": false,
   "user_envs_cfg": false
  },
  "varInspector": {
   "cols": {
    "lenName": 16,
    "lenType": 16,
    "lenVar": 40
   },
   "kernels_config": {
    "python": {
     "delete_cmd_postfix": "",
     "delete_cmd_prefix": "del ",
     "library": "var_list.py",
     "varRefreshCmd": "print(var_dic_list())"
    },
    "r": {
     "delete_cmd_postfix": ") ",
     "delete_cmd_prefix": "rm(",
     "library": "var_list.r",
     "varRefreshCmd": "cat(var_dic_list()) "
    }
   },
   "types_to_exclude": [
    "module",
    "function",
    "builtin_function_or_method",
    "instance",
    "_Feature"
   ],
   "window_display": false
  },
  "vscode": {
   "interpreter": {
    "hash": "b6910ff25df8dce09efd796973b3009190886844a245b2e126304e1790157435"
   }
  }
 },
 "nbformat": 4,
 "nbformat_minor": 5
}
