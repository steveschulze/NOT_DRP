{
 "cells": [
  {
   "cell_type": "code",
   "execution_count": null,
   "id": "5188f0d7",
   "metadata": {
    "ExecuteTime": {
     "end_time": "2021-05-15T13:43:51.763865Z",
     "start_time": "2021-05-15T13:43:51.761004Z"
    }
   },
   "outputs": [],
   "source": [
    "from   astropy import time\n",
    "import json\n",
    "from   plotsettings import *\n",
    "from   standard_libraries import *\n",
    "import requests\n",
    "#from   scipy import interpolate"
   ]
  },
  {
   "cell_type": "code",
   "execution_count": null,
   "id": "cea3f19d",
   "metadata": {},
   "outputs": [],
   "source": [
    "def api(method, endpoint, data=None):\n",
    "    \"\"\"API request\"\"\"\n",
    "\n",
    "    headers = {'Authorization': f'token {myToken}'}\n",
    "    print(headers)\n",
    "    response = requests.request(method, endpoint, json=data, headers=headers)\n",
    "    print(f'HTTP code: {response.status_code}, {response.reason}')\n",
    "    return response\n",
    "\n",
    "def get_groups(source):\n",
    "    \"\"\"Get the groups a source belongs to\"\"\"\n",
    "\n",
    "    response = api('GET',\n",
    "                   f'https://fritz.science/api/sources/{source}'\n",
    "                   )\n",
    "\n",
    "    if response.status_code == 200:\n",
    "        groups = response.json()['data']['groups']\n",
    "        return groups\n",
    "    \n",
    "    else:\n",
    "        print(f'HTTP code: {response.status_code}, {response.reason}')\n",
    "        return None\n"
   ]
  },
  {
   "cell_type": "code",
   "execution_count": null,
   "id": "3345f5d4",
   "metadata": {},
   "outputs": [],
   "source": [
    "root = os.path.expanduser('~') + '/NOT/'\n",
    "#root = '/Volumes/Home/steve/Downloads/'\n",
    "#root = '/Volumes/Work/pynot/'\n",
    "path = root# + 'raw/'"
   ]
  },
  {
   "cell_type": "code",
   "execution_count": null,
   "id": "f62573f3",
   "metadata": {},
   "outputs": [],
   "source": [
    "os.chdir(path)"
   ]
  },
  {
   "cell_type": "code",
   "execution_count": null,
   "id": "960f28a0",
   "metadata": {
    "scrolled": false
   },
   "outputs": [],
   "source": [
    "!ls -lrt *ascii"
   ]
  },
  {
   "cell_type": "code",
   "execution_count": null,
   "id": "d60b16fd",
   "metadata": {},
   "outputs": [],
   "source": [
    "object_name = 'ZTF23aaxuvkn'\n",
    "date        = '20231220'"
   ]
  },
  {
   "cell_type": "code",
   "execution_count": null,
   "id": "a5c0c792",
   "metadata": {},
   "outputs": [],
   "source": [
    "files = sorted(glob.glob('{name}_NOT_ALFOSC_{date}_combine_*ascii'.format(name=object_name, date=date)))\n",
    "#files = sorted(glob.glob('ZTF22abnfjsm_NOT_ALFOSC_20231215_combine_objid_1_*ascii'))\n",
    "files"
   ]
  },
  {
   "cell_type": "code",
   "execution_count": null,
   "id": "06ed0572",
   "metadata": {},
   "outputs": [],
   "source": [
    "plt.figure(figsize=(9*np.sqrt(2),9))\n",
    "ax=plt.subplot(111)\n",
    "\n",
    "ymax = []\n",
    "\n",
    "for file in files:\n",
    "\tprint(file)\n",
    "\t_data = ascii.read(file, names=('WAVE', 'FLUX', 'FLUX_ERR'), header_start=0)\n",
    "\tax.plot(_data['WAVE'], _data['FLUX'])\n",
    "\n",
    "\tprint(np.nanmedian(_data['FLUX'][_data['WAVE'] > 4000.]))\n",
    "\tymax.append(np.nanmedian(_data['FLUX'][_data['WAVE'] > 4000.]))\n",
    "\n",
    "ax.set_xlim(3000, 10000)\n",
    "ax.set_ylim(0, 10*np.nanmedian(ymax));"
   ]
  },
  {
   "cell_type": "code",
   "execution_count": null,
   "id": "89689102",
   "metadata": {},
   "outputs": [],
   "source": [
    "_data.meta['comments']"
   ]
  },
  {
   "cell_type": "code",
   "execution_count": null,
   "id": "e32f7c93",
   "metadata": {},
   "outputs": [],
   "source": [
    "# Push to Fritz"
   ]
  },
  {
   "cell_type": "code",
   "execution_count": null,
   "id": "d79f79c4",
   "metadata": {},
   "outputs": [],
   "source": [
    "# Add your token"
   ]
  },
  {
   "cell_type": "code",
   "execution_count": null,
   "id": "a2ddd67b",
   "metadata": {},
   "outputs": [],
   "source": [
    "myToken = 'YOUR_TOKEN'"
   ]
  },
  {
   "cell_type": "code",
   "execution_count": null,
   "id": "86fe21c5",
   "metadata": {},
   "outputs": [],
   "source": [
    "present_groups = [x['id'] for x in get_groups(object_name)]\n",
    "present_groups"
   ]
  },
  {
   "cell_type": "code",
   "execution_count": null,
   "id": "c4b67e6a",
   "metadata": {},
   "outputs": [],
   "source": [
    "# Choose the file index that you want to upload"
   ]
  },
  {
   "cell_type": "code",
   "execution_count": null,
   "id": "1bf98815",
   "metadata": {},
   "outputs": [],
   "source": [
    "idx_file = 2"
   ]
  },
  {
   "cell_type": "code",
   "execution_count": null,
   "id": "4cf3ab83",
   "metadata": {},
   "outputs": [],
   "source": [
    "flag_submit = False if present_groups == None else True\t"
   ]
  },
  {
   "cell_type": "code",
   "execution_count": null,
   "id": "05376d49",
   "metadata": {},
   "outputs": [],
   "source": [
    "#file = open(files[idx_file], mode='r')"
   ]
  },
  {
   "cell_type": "code",
   "execution_count": null,
   "id": "d20c60f8",
   "metadata": {},
   "outputs": [],
   "source": [
    "# User IDs\n",
    "# Jesper: 23, Steve 39, Sean 1297, Priscila 1305"
   ]
  },
  {
   "cell_type": "code",
   "execution_count": null,
   "id": "be75011e",
   "metadata": {},
   "outputs": [],
   "source": [
    "for x in _data.meta['comments'][:10]:\n",
    "    print(x)"
   ]
  },
  {
   "cell_type": "code",
   "execution_count": null,
   "id": "70da519e",
   "metadata": {},
   "outputs": [],
   "source": [
    "data = {\n",
    "\"observed_by\":   [23, 39],                                                                   # Jesper, Steve\n",
    "\"group_ids\":     list([int(x) for x in np.union1d(present_groups, [41, 87, 1])]),            # Share with existing groups AND RCF, Jesper's group and Sitewise\n",
    "\"filename\":      files[idx_file],\n",
    "\"reduced_by\":    [39],                                                                       # Steve\n",
    "\"instrument_id\": 26,                                                                         # ALFOSC\n",
    "\"observed_at\":   [x.replace('DATE-OBS: ', '') for x in _data.meta['comments'] if 'DATE-OBS' in x][0],\n",
    "\"obj_id\":        [x.replace('OBJECT: ', '') for x in _data.meta['comments'] if 'OBJECT' in x][0],\n",
    "\"ascii\":         open(files[idx_file]).read(),\n",
    "\"wave_column\": 0,\n",
    "\"flux_column\": 1,\n",
    "\"fluxerr_column\": 2\n",
    "}"
   ]
  },
  {
   "cell_type": "code",
   "execution_count": null,
   "id": "fc4be823",
   "metadata": {},
   "outputs": [],
   "source": [
    "[key + ': ' + str(data[key]) for key in data.keys() if key != 'ascii']"
   ]
  },
  {
   "cell_type": "code",
   "execution_count": null,
   "id": "39f68bbc",
   "metadata": {},
   "outputs": [],
   "source": [
    "data"
   ]
  },
  {
   "cell_type": "code",
   "execution_count": null,
   "id": "bb33a85a",
   "metadata": {},
   "outputs": [],
   "source": [
    "if flag_submit:\n",
    "    response = api('POST', 'https://fritz.science/api/spectrum/ascii', data=data)\n",
    "    response"
   ]
  },
  {
   "cell_type": "code",
   "execution_count": null,
   "id": "eb011e0b",
   "metadata": {},
   "outputs": [],
   "source": []
  },
  {
   "cell_type": "code",
   "execution_count": null,
   "id": "6a82707b",
   "metadata": {},
   "outputs": [],
   "source": []
  }
 ],
 "metadata": {
  "kernelspec": {
   "display_name": "Python 3 (ipykernel)",
   "language": "python",
   "name": "python3"
  },
  "language_info": {
   "codemirror_mode": {
    "name": "ipython",
    "version": 3
   },
   "file_extension": ".py",
   "mimetype": "text/x-python",
   "name": "python",
   "nbconvert_exporter": "python",
   "pygments_lexer": "ipython3",
   "version": "3.9.12"
  },
  "latex_envs": {
   "LaTeX_envs_menu_present": true,
   "autoclose": false,
   "autocomplete": true,
   "bibliofile": "biblio.bib",
   "cite_by": "apalike",
   "current_citInitial": 1,
   "eqLabelWithNumbers": true,
   "eqNumInitial": 1,
   "hotkeys": {
    "equation": "Ctrl-E",
    "itemize": "Ctrl-I"
   },
   "labels_anchors": false,
   "latex_user_defs": false,
   "report_style_numbering": false,
   "user_envs_cfg": false
  },
  "varInspector": {
   "cols": {
    "lenName": 16,
    "lenType": 16,
    "lenVar": 40
   },
   "kernels_config": {
    "python": {
     "delete_cmd_postfix": "",
     "delete_cmd_prefix": "del ",
     "library": "var_list.py",
     "varRefreshCmd": "print(var_dic_list())"
    },
    "r": {
     "delete_cmd_postfix": ") ",
     "delete_cmd_prefix": "rm(",
     "library": "var_list.r",
     "varRefreshCmd": "cat(var_dic_list()) "
    }
   },
   "types_to_exclude": [
    "module",
    "function",
    "builtin_function_or_method",
    "instance",
    "_Feature"
   ],
   "window_display": false
  },
  "vscode": {
   "interpreter": {
    "hash": "b6910ff25df8dce09efd796973b3009190886844a245b2e126304e1790157435"
   }
  }
 },
 "nbformat": 4,
 "nbformat_minor": 5
}
